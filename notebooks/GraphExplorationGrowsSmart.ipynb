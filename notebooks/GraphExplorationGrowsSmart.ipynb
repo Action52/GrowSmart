{
 "cells": [
  {
   "cell_type": "code",
   "execution_count": 28,
   "id": "10ca9d50",
   "metadata": {},
   "outputs": [
    {
     "name": "stdout",
     "output_type": "stream",
     "text": [
      "set host to growsmart-neptune.cluster-custom-cgogeml0cuty.eu-west-3.neptune.amazonaws.com\n"
     ]
    }
   ],
   "source": [
    "%graph_notebook_host growsmart-neptune.cluster-custom-cgogeml0cuty.eu-west-3.neptune.amazonaws.com"
   ]
  },
  {
   "cell_type": "code",
   "execution_count": 18,
   "id": "b7275ec9",
   "metadata": {},
   "outputs": [
    {
     "data": {
      "application/vnd.jupyter.widget-view+json": {
       "model_id": "941deb4281334889b8a36cded5a7d322",
       "version_major": 2,
       "version_minor": 0
      },
      "text/plain": [
       "Tab(children=(Output(layout=Layout(max_height='600px', max_width='940px', overflow='scroll')), Output(layout=L…"
      ]
     },
     "metadata": {},
     "output_type": "display_data"
    }
   ],
   "source": [
    "%%oc\n",
    "//Execute this cell (uncomment query) to delete the full graph to load again we have to trigger the bulk loader\n",
    "//\n",
    "// PLEASE IF YOU USE THIS CELL TO DROP THE GRAPH LET THE REST OF US KNOW\n",
    "//\n",
    "//MATCH (n)\n",
    "//DETACH DELETE n"
   ]
  },
  {
   "cell_type": "code",
   "execution_count": 36,
   "id": "9849e1f9",
   "metadata": {
    "tags": []
   },
   "outputs": [
    {
     "data": {
      "application/vnd.jupyter.widget-view+json": {
       "model_id": "508f9f3cabb943f38560f83680128249",
       "version_major": 2,
       "version_minor": 0
      },
      "text/plain": [
       "Tab(children=(Output(layout=Layout(max_height='600px', max_width='940px', overflow='scroll')), Force(network=<…"
      ]
     },
     "metadata": {},
     "output_type": "display_data"
    }
   ],
   "source": [
    "%%oc\n",
    "MATCH(n:Sensor)-[c]->(s:Event)-[c2]->(d:SensorData)\n",
    "RETURN n, c, s, c2, d\n",
    "LIMIT 200"
   ]
  },
  {
   "cell_type": "code",
   "execution_count": null,
   "id": "686cd91d",
   "metadata": {},
   "outputs": [],
   "source": [
    "import python-cypher\n",
    "\n",
    "connector = Connector(host, port)\n",
    "query = \"\"\"\n",
    "MATCH(n:Sensor)-[c]->(s:Event)-[c2]->(d:SensorData)\n",
    "RETURN n, c, s, c2, d\n",
    "LIMIT 200\n",
    "\"\"\"\n",
    "\n"
   ]
  },
  {
   "cell_type": "code",
   "execution_count": 37,
   "id": "4736e033-54a6-40a9-965d-434ab4965f26",
   "metadata": {
    "tags": []
   },
   "outputs": [
    {
     "data": {
      "text/plain": [
       "{'status': '200 OK',\n",
       " 'payload': {'token': 'd4c448fc-43d2-46c6-b85e-5b3117c0834e'}}"
      ]
     },
     "execution_count": 37,
     "metadata": {},
     "output_type": "execute_result"
    }
   ],
   "source": [
    "%db_reset --generate-token # This command will reset the db, run at your own risk"
   ]
  },
  {
   "cell_type": "code",
   "execution_count": 39,
   "id": "bdbbebec-029f-4bba-a407-74a8be658c95",
   "metadata": {
    "tags": []
   },
   "outputs": [
    {
     "data": {
      "text/plain": [
       "{'status': '200 OK'}"
      ]
     },
     "execution_count": 39,
     "metadata": {},
     "output_type": "execute_result"
    }
   ],
   "source": [
    "%db_reset --token d4c448fc-43d2-46c6-b85e-5b3117c0834e # This command will reset the db, run at your own risk"
   ]
  },
  {
   "cell_type": "code",
   "execution_count": null,
   "id": "99950ab9-f93d-4a0b-8043-135ee9a544cd",
   "metadata": {},
   "outputs": [],
   "source": []
  }
 ],
 "metadata": {
  "kernelspec": {
   "display_name": "Python 3",
   "language": "python",
   "name": "python3"
  },
  "language_info": {
   "codemirror_mode": {
    "name": "ipython",
    "version": 3
   },
   "file_extension": ".py",
   "mimetype": "text/x-python",
   "name": "python",
   "nbconvert_exporter": "python",
   "pygments_lexer": "ipython3",
   "version": "3.7.12"
  }
 },
 "nbformat": 4,
 "nbformat_minor": 5
}
