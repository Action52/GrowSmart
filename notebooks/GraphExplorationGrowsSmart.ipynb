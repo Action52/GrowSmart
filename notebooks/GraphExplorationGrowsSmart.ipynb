{
 "cells": [
  {
   "cell_type": "code",
   "execution_count": 1,
   "id": "10ca9d50",
   "metadata": {
    "tags": []
   },
   "outputs": [
    {
     "name": "stdout",
     "output_type": "stream",
     "text": [
      "set host to growsmart-neptune.cluster-custom-cgogeml0cuty.eu-west-3.neptune.amazonaws.com\n"
     ]
    }
   ],
   "source": [
    "%graph_notebook_host growsmart-neptune.cluster-custom-cgogeml0cuty.eu-west-3.neptune.amazonaws.com"
   ]
  },
  {
   "cell_type": "code",
   "execution_count": 18,
   "id": "b7275ec9",
   "metadata": {},
   "outputs": [
    {
     "data": {
      "application/vnd.jupyter.widget-view+json": {
       "model_id": "941deb4281334889b8a36cded5a7d322",
       "version_major": 2,
       "version_minor": 0
      },
      "text/plain": [
       "Tab(children=(Output(layout=Layout(max_height='600px', max_width='940px', overflow='scroll')), Output(layout=L…"
      ]
     },
     "metadata": {},
     "output_type": "display_data"
    }
   ],
   "source": [
    "%%oc\n",
    "//Execute this cell (uncomment query) to delete the full graph to load again we have to trigger the bulk loader\n",
    "//\n",
    "// PLEASE IF YOU USE THIS CELL TO DROP THE GRAPH LET THE REST OF US KNOW\n",
    "//\n",
    "//MATCH (n)\n",
    "//DETACH DELETE n"
   ]
  },
  {
   "cell_type": "code",
   "execution_count": 36,
   "id": "9849e1f9",
   "metadata": {
    "tags": []
   },
   "outputs": [
    {
     "data": {
      "application/vnd.jupyter.widget-view+json": {
       "model_id": "508f9f3cabb943f38560f83680128249",
       "version_major": 2,
       "version_minor": 0
      },
      "text/plain": [
       "Tab(children=(Output(layout=Layout(max_height='600px', max_width='940px', overflow='scroll')), Force(network=<…"
      ]
     },
     "metadata": {},
     "output_type": "display_data"
    }
   ],
   "source": [
    "%%oc\n",
    "MATCH(n:Sensor)-[c]->(s:Event)-[c2]->(d:SensorData)\n",
    "RETURN n, c, s, c2, d\n",
    "LIMIT 200"
   ]
  },
  {
   "cell_type": "code",
   "execution_count": null,
   "id": "686cd91d",
   "metadata": {},
   "outputs": [],
   "source": [
    "import python-cypher\n",
    "\n",
    "connector = Connector(host, port)\n",
    "query = \"\"\"\n",
    "MATCH(n:Sensor)-[c]->(s:Event)-[c2]->(d:SensorData)\n",
    "RETURN n, c, s, c2, d\n",
    "LIMIT 200\n",
    "\"\"\"\n",
    "\n"
   ]
  },
  {
   "cell_type": "code",
   "execution_count": 1,
   "id": "4736e033-54a6-40a9-965d-434ab4965f26",
   "metadata": {
    "tags": []
   },
   "outputs": [
    {
     "data": {
      "text/plain": [
       "{'status': '200 OK',\n",
       " 'payload': {'token': '80c44ba8-ae32-ce6b-3b20-638f527ed25d'}}"
      ]
     },
     "execution_count": 2,
     "metadata": {},
     "output_type": "execute_result"
    }
   ],
   "source": [
    "%db_reset --generate-token # This command will reset the db, run at your own risk"
   ]
  },
  {
   "cell_type": "code",
   "execution_count": null,
   "id": "bdbbebec-029f-4bba-a407-74a8be658c95",
   "metadata": {
    "tags": []
   },
   "outputs": [
    {
     "data": {
      "text/plain": [
       "{'status': '200 OK'}"
      ]
     },
     "execution_count": 3,
     "metadata": {},
     "output_type": "execute_result"
    }
   ],
   "source": [
    "%db_reset --token 80c44ba8-ae32-ce6b-3b20-638f527ed25d # This command will reset the db, run at your own risk"
   ]
  },
  {
   "cell_type": "code",
   "execution_count": 56,
   "id": "2f699d57-b828-4f4c-9540-756ab2edefe1",
   "metadata": {
    "tags": []
   },
   "outputs": [
    {
     "data": {
      "application/vnd.jupyter.widget-view+json": {
       "model_id": "f154e492d37e40ec910f02d7190021f4",
       "version_major": 2,
       "version_minor": 0
      },
      "text/plain": [
       "Tab(children=(Output(layout=Layout(max_height='600px', max_width='940px', overflow='scroll')), Force(network=<…"
      ]
     },
     "metadata": {},
     "output_type": "display_data"
    }
   ],
   "source": [
    "%%oc\n",
    "MATCH (p:Plant)\n",
    "SET p.status = 1.0 //Healthy\n",
    "RETURN p"
   ]
  },
  {
   "cell_type": "code",
   "execution_count": 57,
   "id": "99950ab9-f93d-4a0b-8043-135ee9a544cd",
   "metadata": {
    "tags": []
   },
   "outputs": [
    {
     "data": {
      "application/vnd.jupyter.widget-view+json": {
       "model_id": "fc8cf4ac0fff4e6b968500d540a8c2bd",
       "version_major": 2,
       "version_minor": 0
      },
      "text/plain": [
       "Tab(children=(Output(layout=Layout(max_height='600px', max_width='940px', overflow='scroll')), Output(layout=L…"
      ]
     },
     "metadata": {},
     "output_type": "display_data"
    }
   ],
   "source": [
    "%%oc\n",
    "MATCH (p:Plant)<-[m:MEASURES]-(s:Sensor)-[r:REGISTERS]->(e:Event)-[c:CONTAINS]->(sd:iot_soil_ph)\n",
    "OPTIONAL MATCH (e1:Event)-[c1:CONTAINS]->(sd1:iot_soil_humidity)\n",
    "WITH p, m, s, r, e, e1, c, c1, toFloat(sd.value) AS ph, toFloat(sd1.value) AS hum\n",
    "WHERE e=e1 AND (ph < 5.0 OR ph > 7.0) AND p IS NOT NULL AND (hum < 60.0)\n",
    "SET p.status = 0.0 //Unhealthy\n",
    "RETURN DISTINCT ID(p)"
   ]
  },
  {
   "cell_type": "code",
   "execution_count": 46,
   "id": "42f4f482-2844-4842-87d3-7b36c660e4ac",
   "metadata": {
    "tags": []
   },
   "outputs": [
    {
     "data": {
      "application/vnd.jupyter.widget-view+json": {
       "model_id": "c3140db833224a97922c3ef8321e34e9",
       "version_major": 2,
       "version_minor": 0
      },
      "text/plain": [
       "Tab(children=(Output(layout=Layout(max_height='600px', max_width='940px', overflow='scroll')), Output(layout=L…"
      ]
     },
     "metadata": {},
     "output_type": "display_data"
    }
   ],
   "source": [
    "%%oc\n",
    "MATCH (n:iot_soil_humidity)\n",
    "RETURN n.value ORDER BY n.value DESC"
   ]
  },
  {
   "cell_type": "code",
   "execution_count": 52,
   "id": "88a52134-91b4-48da-bbd1-1cb2325860b0",
   "metadata": {
    "tags": []
   },
   "outputs": [
    {
     "data": {
      "application/vnd.jupyter.widget-view+json": {
       "model_id": "dffda0f74cd342a4952030ef499771c2",
       "version_major": 2,
       "version_minor": 0
      },
      "text/plain": [
       "Tab(children=(Output(layout=Layout(max_height='600px', max_width='940px', overflow='scroll')), Force(network=<…"
      ]
     },
     "metadata": {},
     "output_type": "display_data"
    }
   ],
   "source": [
    "%%oc\n",
    "MATCH (p:Plant)\n",
    "WITH p, rand() AS r\n",
    "ORDER BY r\n",
    "LIMIT 25\n",
    "SET p.status = 0.0\n",
    "RETURN p"
   ]
  },
  {
   "cell_type": "code",
   "execution_count": null,
   "id": "62a957a6-b8c7-453c-b9c8-1fd22734054e",
   "metadata": {},
   "outputs": [],
   "source": [
    "%%oc\n",
    "MATCH (p:Plant)<-[m:MEASURES]-(s:Sensor)-[r:REGISTERS]->(e:Event)-[c:CONTAINS]->(sd)\n",
    "WITH p, m, s, r, e, c, sd\n",
    "WHERE sd['value'] IS NOT NULL AND labels(sd)[0] <> 'iot_light' AND labels(sd)[0] <> 'iot_motion'\n",
    "RETURN sd['value'] AS value, labels(sd)[0] AS value_label"
   ]
  }
 ],
 "metadata": {
  "kernelspec": {
   "display_name": "Python 3",
   "language": "python",
   "name": "python3"
  },
  "language_info": {
   "codemirror_mode": {
    "name": "ipython",
    "version": 3
   },
   "file_extension": ".py",
   "mimetype": "text/x-python",
   "name": "python",
   "nbconvert_exporter": "python",
   "pygments_lexer": "ipython3",
   "version": "3.7.12"
  }
 },
 "nbformat": 4,
 "nbformat_minor": 5
}
