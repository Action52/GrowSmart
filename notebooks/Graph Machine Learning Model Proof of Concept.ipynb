{
 "cells": [
  {
   "cell_type": "code",
   "execution_count": 1,
   "id": "8e0a303b-c6bc-4a95-99d9-804129ace07e",
   "metadata": {
    "tags": []
   },
   "outputs": [
    {
     "name": "stdout",
     "output_type": "stream",
     "text": [
      "The graph_notebook.magics extension is already loaded. To reload it, use:\n",
      "  %reload_ext graph_notebook.magics\n"
     ]
    }
   ],
   "source": [
    "%load_ext graph_notebook.magics"
   ]
  },
  {
   "cell_type": "code",
   "execution_count": 2,
   "id": "1f29590e-0ebb-4ac6-8951-f261453799af",
   "metadata": {
    "tags": []
   },
   "outputs": [
    {
     "name": "stdout",
     "output_type": "stream",
     "text": [
      "set host to growsmart-neptune.cluster-custom-cgogeml0cuty.eu-west-3.neptune.amazonaws.com\n"
     ]
    }
   ],
   "source": [
    "%graph_notebook_host growsmart-neptune.cluster-custom-cgogeml0cuty.eu-west-3.neptune.amazonaws.com"
   ]
  },
  {
   "cell_type": "code",
   "execution_count": 3,
   "id": "8afb1f03-3342-4120-9a11-40bb776d1bc4",
   "metadata": {
    "tags": []
   },
   "outputs": [],
   "source": [
    "#!pip install dgl\n",
    "#!pip install -U 'jsonschema<4.0'\n",
    "#!pip install torch>=1.9.0"
   ]
  },
  {
   "cell_type": "code",
   "execution_count": 4,
   "id": "976581c0-64a6-4311-8117-642e50ff8bca",
   "metadata": {
    "tags": []
   },
   "outputs": [],
   "source": [
    "import pandas as pd\n",
    "import torch\n",
    "import dgl\n",
    "import numpy as np"
   ]
  },
  {
   "cell_type": "markdown",
   "id": "c198007f-8ed2-4567-bf86-214cd2e3725c",
   "metadata": {
    "tags": []
   },
   "source": [
    "## Generating the embeddings\n",
    "\n",
    "https://julsimon.medium.com/a-primer-on-graph-neural-networks-with-amazon-neptune-and-the-deep-graph-library-5ce64984a276"
   ]
  },
  {
   "cell_type": "code",
   "execution_count": 6,
   "id": "f72dd9c4-439b-4d52-a707-4ade415ec82d",
   "metadata": {
    "tags": []
   },
   "outputs": [
    {
     "data": {
      "application/vnd.jupyter.widget-view+json": {
       "model_id": "88209e6a9b8144c88e8e0d5eed0348b8",
       "version_major": 2,
       "version_minor": 0
      },
      "text/plain": [
       "Tab(children=(Output(layout=Layout(max_height='600px', max_width='940px', overflow='scroll')), Force(network=<…"
      ]
     },
     "metadata": {},
     "output_type": "display_data"
    }
   ],
   "source": [
    "%%oc\n",
    "MATCH (n)\n",
    "RETURN n"
   ]
  },
  {
   "cell_type": "code",
   "execution_count": 7,
   "id": "8bc9a786-7b5c-4cbd-9ea0-51b567c2fc9a",
   "metadata": {
    "tags": []
   },
   "outputs": [
    {
     "data": {
      "application/vnd.jupyter.widget-view+json": {
       "model_id": "f9991449117d447fa0ac17ca05f2c21d",
       "version_major": 2,
       "version_minor": 0
      },
      "text/plain": [
       "Tab(children=(Output(layout=Layout(max_height='600px', max_width='940px', overflow='scroll')), Output(layout=L…"
      ]
     },
     "metadata": {},
     "output_type": "display_data"
    }
   ],
   "source": [
    "%%oc --store-to edges\n",
    "MATCH (n)-[e]->(m)\n",
    "RETURN n['~id'] AS start, m['~id'] AS end"
   ]
  },
  {
   "cell_type": "code",
   "execution_count": 8,
   "id": "d70bd843-6e18-4a7f-87db-048b1c2e488d",
   "metadata": {
    "tags": []
   },
   "outputs": [
    {
     "data": {
      "text/plain": [
       "[('SENSOR_p0:33:18:00:20:11', 'EVENT__16511f1d-cfca-5383-aba0-6a388d52a8fe'),\n",
       " ('PLANT_6f5dbe0d-b7c4-4608-a511-a8cc521c40b8', 'SPECIES_39210'),\n",
       " ('PLANT_87a5f59e-a955-4c46-8393-7e678de72f46', 'SPECIES_41305'),\n",
       " ('GARDEN_16FFB3', 'PLANT_29b24e45-5e2f-48fc-81bf-0ce7428f7d1d'),\n",
       " ('GARDEN_4D2E71', 'PLANT_36c27bcf-fb3f-44f7-827b-6731ebabc41d')]"
      ]
     },
     "execution_count": 8,
     "metadata": {},
     "output_type": "execute_result"
    }
   ],
   "source": [
    "edges_tuples = [(ed['start'], ed['end']) for ed in edges['results']]\n",
    "edges_tuples[:5]"
   ]
  },
  {
   "cell_type": "code",
   "execution_count": null,
   "id": "487cee5b-2ada-4a6e-9fde-2376a3026c96",
   "metadata": {},
   "outputs": [],
   "source": []
  }
 ],
 "metadata": {
  "kernelspec": {
   "display_name": "conda_pytorch_p39",
   "language": "python",
   "name": "conda_pytorch_p39"
  },
  "language_info": {
   "codemirror_mode": {
    "name": "ipython",
    "version": 3
   },
   "file_extension": ".py",
   "mimetype": "text/x-python",
   "name": "python",
   "nbconvert_exporter": "python",
   "pygments_lexer": "ipython3",
   "version": "3.9.15"
  }
 },
 "nbformat": 4,
 "nbformat_minor": 5
}
