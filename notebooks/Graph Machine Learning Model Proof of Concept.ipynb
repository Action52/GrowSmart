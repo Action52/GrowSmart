{
 "cells": [
  {
   "cell_type": "markdown",
   "id": "94a48601-16cc-4a8e-beff-a4235388bc3b",
   "metadata": {},
   "source": [
    "# GrowSmart Graph ML Proof of Concept\n",
    "\n",
    "## Setup and imports"
   ]
  },
  {
   "cell_type": "code",
   "execution_count": 1,
   "id": "8e0a303b-c6bc-4a95-99d9-804129ace07e",
   "metadata": {
    "tags": []
   },
   "outputs": [
    {
     "name": "stdout",
     "output_type": "stream",
     "text": [
      "The graph_notebook.magics extension is already loaded. To reload it, use:\n",
      "  %reload_ext graph_notebook.magics\n"
     ]
    }
   ],
   "source": [
    "%load_ext graph_notebook.magics"
   ]
  },
  {
   "cell_type": "code",
   "execution_count": 2,
   "id": "1f29590e-0ebb-4ac6-8951-f261453799af",
   "metadata": {
    "tags": []
   },
   "outputs": [
    {
     "name": "stdout",
     "output_type": "stream",
     "text": [
      "set host to growsmart-neptune.cluster-custom-cgogeml0cuty.eu-west-3.neptune.amazonaws.com\n"
     ]
    }
   ],
   "source": [
    "%graph_notebook_host growsmart-neptune.cluster-custom-cgogeml0cuty.eu-west-3.neptune.amazonaws.com"
   ]
  },
  {
   "cell_type": "code",
   "execution_count": 3,
   "id": "976581c0-64a6-4311-8117-642e50ff8bca",
   "metadata": {
    "tags": []
   },
   "outputs": [],
   "source": [
    "import os\n",
    "import io\n",
    "os.environ['DGLBACKEND'] = 'pytorch'\n",
    "import pandas as pd\n",
    "import dgl\n",
    "import numpy as np\n",
    "from neo4j import GraphDatabase\n",
    "from neo4j.graph import Node, Relationship\n",
    "from torch import tensor, stack\n",
    "from torch.nn import Module\n",
    "from sklearn.preprocessing import LabelEncoder, OneHotEncoder\n",
    "from sklearn.preprocessing import MinMaxScaler\n",
    "from pandas.api.types import is_numeric_dtype\n",
    "import torch.nn.functional as F\n",
    "from dgl.nn import GraphConv\n",
    "import torch\n",
    "from sklearn.model_selection import train_test_split\n",
    "import matplotlib.pyplot as plt\n",
    "from dgl.nn import DeepWalk\n",
    "from dgl.nn import DeepWalk\n",
    "from torch.optim import SparseAdam\n",
    "from torch.utils.data import DataLoader"
   ]
  },
  {
   "cell_type": "code",
   "execution_count": 4,
   "id": "38385629-2f92-4e82-b0d3-f23055a546b5",
   "metadata": {
    "tags": []
   },
   "outputs": [],
   "source": [
    "uri = \"bolt://growsmart-neptune.cluster-custom-cgogeml0cuty.eu-west-3.neptune.amazonaws.com:8182\"\n",
    "driver = GraphDatabase.driver(uri, auth=(\"username\", \"password\"), encrypted=True)"
   ]
  },
  {
   "cell_type": "code",
   "execution_count": 5,
   "id": "c7fa05c3-5c30-41fd-8121-92883d9af32e",
   "metadata": {
    "tags": []
   },
   "outputs": [],
   "source": [
    "def run_query(query, parameters=None):\n",
    "    with driver.session() as session:\n",
    "        result = session.run(query, parameters)\n",
    "        return [record for record in result]"
   ]
  },
  {
   "cell_type": "markdown",
   "id": "c198007f-8ed2-4567-bf86-214cd2e3725c",
   "metadata": {
    "tags": []
   },
   "source": [
    "## Let's do a Proof of Concept\n",
    "\n",
    "https://julsimon.medium.com/a-primer-on-graph-neural-networks-with-amazon-neptune-and-the-deep-graph-library-5ce64984a276  \n",
    "\n",
    "The advantage of creating a Graph Neural Network and exploit it for regression or classification is that the Graph stores the underlying connections between the nodes. This makes them more powerful than classic DM or ML approaches where we don't have this advantage.  \n",
    "In the case of GrowSmart, we can exploit the graph in many ways depending on the end user:\n",
    "- For internal usage: Analysts within the company can learn trends, patterns, and evaluate the status of the plants and gardens.\n",
    "- For customer usage: The model can serve directly the customer's application and tell them if their plants/gardens are healthy or not based on the previous data and on the weather forecasts.\n",
    "\n",
    "We can stem many model ideas from these perspectives:\n",
    "- For the users:\n",
    "    - Are my plants humid enough?\n",
    "    - Tomorrow it's going to be sunny, what is the expected ph level of my tomates?\n",
    "- For the business:\n",
    "    - It has been rainy in Barcelona this week, to which users should we issue a warning for their plants?\n",
    "    \n",
    "    \n",
    "For this Proof of Concept, let's apply Node Regression to predict humidity based on sensor data. To do this we will use DGL (Deep Graph Library) and Pytorch to train a simple CGN (Convolutional Graph Network)."
   ]
  },
  {
   "cell_type": "code",
   "execution_count": 6,
   "id": "e190cdc9-2fba-4e9b-a7d1-ce2ce4e733c2",
   "metadata": {
    "tags": []
   },
   "outputs": [
    {
     "data": {
      "application/vnd.jupyter.widget-view+json": {
       "model_id": "2532aa1d80494a43ada571a76d656560",
       "version_major": 2,
       "version_minor": 0
      },
      "text/plain": [
       "Tab(children=(Output(layout=Layout(max_height='600px', max_width='940px', overflow='scroll')), Output(layout=L…"
      ]
     },
     "metadata": {},
     "output_type": "display_data"
    }
   ],
   "source": [
    "%%oc --store-to labels\n",
    "\n",
    "MATCH (n)\n",
    "WITH labels(n)[0] AS lbl\n",
    "RETURN DISTINCT lbl"
   ]
  },
  {
   "cell_type": "code",
   "execution_count": 7,
   "id": "a80af9d5-8b8e-4ccf-af45-497d284a4317",
   "metadata": {
    "tags": []
   },
   "outputs": [
    {
     "data": {
      "application/vnd.jupyter.widget-view+json": {
       "model_id": "2bf1e2a8be414373b395d4a8d22b81fc",
       "version_major": 2,
       "version_minor": 0
      },
      "text/plain": [
       "Tab(children=(Output(layout=Layout(max_height='600px', max_width='940px', overflow='scroll')), Output(layout=L…"
      ]
     },
     "metadata": {},
     "output_type": "display_data"
    }
   ],
   "source": [
    "%%oc --store-to labels_edge\n",
    "MATCH (n)-[e]->(m)\n",
    "WITH type(e) as lbl\n",
    "RETURN DISTINCT lbl"
   ]
  },
  {
   "cell_type": "code",
   "execution_count": 8,
   "id": "9490cfba-af2b-4225-8274-6db98bc66666",
   "metadata": {
    "tags": []
   },
   "outputs": [
    {
     "data": {
      "text/plain": [
       "[<Record n=<Node id=16777998 labels=frozenset({'Plant'}) properties={'iot_plant_id': '580b5c4d-933a-4b01-9b16-6ca2f81a3a1a', 'status': 1.0}>>]"
      ]
     },
     "execution_count": 8,
     "metadata": {},
     "output_type": "execute_result"
    }
   ],
   "source": [
    "run_query(\"MATCH (n) RETURN n LIMIT 1\")"
   ]
  },
  {
   "cell_type": "code",
   "execution_count": 9,
   "id": "c772d63c-6894-4d69-9755-bec289d0e19f",
   "metadata": {
    "tags": []
   },
   "outputs": [
    {
     "data": {
      "text/html": [
       "<div>\n",
       "<style scoped>\n",
       "    .dataframe tbody tr th:only-of-type {\n",
       "        vertical-align: middle;\n",
       "    }\n",
       "\n",
       "    .dataframe tbody tr th {\n",
       "        vertical-align: top;\n",
       "    }\n",
       "\n",
       "    .dataframe thead th {\n",
       "        text-align: right;\n",
       "    }\n",
       "</style>\n",
       "<table border=\"1\" class=\"dataframe\">\n",
       "  <thead>\n",
       "    <tr style=\"text-align: right;\">\n",
       "      <th></th>\n",
       "      <th>plant_id</th>\n",
       "      <th>plant_status</th>\n",
       "      <th>event_id</th>\n",
       "      <th>value</th>\n",
       "      <th>value_label_iot_co</th>\n",
       "      <th>value_label_iot_humidity</th>\n",
       "      <th>value_label_iot_lpg</th>\n",
       "      <th>value_label_iot_rainfall</th>\n",
       "      <th>value_label_iot_smoke</th>\n",
       "      <th>value_label_iot_soil_humidity</th>\n",
       "      <th>value_label_iot_soil_nitrogen</th>\n",
       "      <th>value_label_iot_soil_ph</th>\n",
       "      <th>value_label_iot_soil_phosporous</th>\n",
       "      <th>value_label_iot_soil_potassium</th>\n",
       "      <th>value_label_iot_soil_temp</th>\n",
       "      <th>value_label_iot_temp</th>\n",
       "    </tr>\n",
       "  </thead>\n",
       "  <tbody>\n",
       "    <tr>\n",
       "      <th>0</th>\n",
       "      <td>PLANT_2d04335e-db7d-4f83-a21c-104be59d1c85</td>\n",
       "      <td>0.0</td>\n",
       "      <td>EVENT_5ac10a11-ebe1-5f3a-a080-18ab29e1351b</td>\n",
       "      <td>0.539419</td>\n",
       "      <td>0.0</td>\n",
       "      <td>0.0</td>\n",
       "      <td>0.0</td>\n",
       "      <td>0.0</td>\n",
       "      <td>0.0</td>\n",
       "      <td>0.0</td>\n",
       "      <td>0.0</td>\n",
       "      <td>0.0</td>\n",
       "      <td>0.0</td>\n",
       "      <td>0.0</td>\n",
       "      <td>0.0</td>\n",
       "      <td>1.0</td>\n",
       "    </tr>\n",
       "    <tr>\n",
       "      <th>1</th>\n",
       "      <td>PLANT_3f6c4278-9698-4e08-b386-459fb50008b8</td>\n",
       "      <td>0.0</td>\n",
       "      <td>EVENT_5ac10a11-ebe1-5f3a-a080-18ab29e1351b</td>\n",
       "      <td>0.539419</td>\n",
       "      <td>0.0</td>\n",
       "      <td>0.0</td>\n",
       "      <td>0.0</td>\n",
       "      <td>0.0</td>\n",
       "      <td>0.0</td>\n",
       "      <td>0.0</td>\n",
       "      <td>0.0</td>\n",
       "      <td>0.0</td>\n",
       "      <td>0.0</td>\n",
       "      <td>0.0</td>\n",
       "      <td>0.0</td>\n",
       "      <td>1.0</td>\n",
       "    </tr>\n",
       "    <tr>\n",
       "      <th>2</th>\n",
       "      <td>PLANT_e8f48e96-1fd0-4435-b02a-d5e14f39196f</td>\n",
       "      <td>0.0</td>\n",
       "      <td>EVENT_5ac10a11-ebe1-5f3a-a080-18ab29e1351b</td>\n",
       "      <td>0.539419</td>\n",
       "      <td>0.0</td>\n",
       "      <td>0.0</td>\n",
       "      <td>0.0</td>\n",
       "      <td>0.0</td>\n",
       "      <td>0.0</td>\n",
       "      <td>0.0</td>\n",
       "      <td>0.0</td>\n",
       "      <td>0.0</td>\n",
       "      <td>0.0</td>\n",
       "      <td>0.0</td>\n",
       "      <td>0.0</td>\n",
       "      <td>1.0</td>\n",
       "    </tr>\n",
       "    <tr>\n",
       "      <th>3</th>\n",
       "      <td>PLANT_5a508647-c0e4-421f-8296-f0ff1ed02ea4</td>\n",
       "      <td>0.0</td>\n",
       "      <td>EVENT_5ac10a11-ebe1-5f3a-a080-18ab29e1351b</td>\n",
       "      <td>0.539419</td>\n",
       "      <td>0.0</td>\n",
       "      <td>0.0</td>\n",
       "      <td>0.0</td>\n",
       "      <td>0.0</td>\n",
       "      <td>0.0</td>\n",
       "      <td>0.0</td>\n",
       "      <td>0.0</td>\n",
       "      <td>0.0</td>\n",
       "      <td>0.0</td>\n",
       "      <td>0.0</td>\n",
       "      <td>0.0</td>\n",
       "      <td>1.0</td>\n",
       "    </tr>\n",
       "    <tr>\n",
       "      <th>4</th>\n",
       "      <td>PLANT_2d04335e-db7d-4f83-a21c-104be59d1c85</td>\n",
       "      <td>0.0</td>\n",
       "      <td>EVENT_5ac10a11-ebe1-5f3a-a080-18ab29e1351b</td>\n",
       "      <td>0.000000</td>\n",
       "      <td>0.0</td>\n",
       "      <td>0.0</td>\n",
       "      <td>1.0</td>\n",
       "      <td>0.0</td>\n",
       "      <td>0.0</td>\n",
       "      <td>0.0</td>\n",
       "      <td>0.0</td>\n",
       "      <td>0.0</td>\n",
       "      <td>0.0</td>\n",
       "      <td>0.0</td>\n",
       "      <td>0.0</td>\n",
       "      <td>0.0</td>\n",
       "    </tr>\n",
       "    <tr>\n",
       "      <th>...</th>\n",
       "      <td>...</td>\n",
       "      <td>...</td>\n",
       "      <td>...</td>\n",
       "      <td>...</td>\n",
       "      <td>...</td>\n",
       "      <td>...</td>\n",
       "      <td>...</td>\n",
       "      <td>...</td>\n",
       "      <td>...</td>\n",
       "      <td>...</td>\n",
       "      <td>...</td>\n",
       "      <td>...</td>\n",
       "      <td>...</td>\n",
       "      <td>...</td>\n",
       "      <td>...</td>\n",
       "      <td>...</td>\n",
       "    </tr>\n",
       "    <tr>\n",
       "      <th>6163</th>\n",
       "      <td>PLANT_b76442c6-0eba-4951-bce7-c8e5702afdc1</td>\n",
       "      <td>1.0</td>\n",
       "      <td>EVENT_7ea74261-1d64-5a97-8322-f2ba24ed041d</td>\n",
       "      <td>0.815286</td>\n",
       "      <td>0.0</td>\n",
       "      <td>0.0</td>\n",
       "      <td>0.0</td>\n",
       "      <td>1.0</td>\n",
       "      <td>0.0</td>\n",
       "      <td>0.0</td>\n",
       "      <td>0.0</td>\n",
       "      <td>0.0</td>\n",
       "      <td>0.0</td>\n",
       "      <td>0.0</td>\n",
       "      <td>0.0</td>\n",
       "      <td>0.0</td>\n",
       "    </tr>\n",
       "    <tr>\n",
       "      <th>6164</th>\n",
       "      <td>PLANT_b874295f-5878-497c-99ff-789be0da6bde</td>\n",
       "      <td>1.0</td>\n",
       "      <td>EVENT_7ea74261-1d64-5a97-8322-f2ba24ed041d</td>\n",
       "      <td>0.815286</td>\n",
       "      <td>0.0</td>\n",
       "      <td>0.0</td>\n",
       "      <td>0.0</td>\n",
       "      <td>1.0</td>\n",
       "      <td>0.0</td>\n",
       "      <td>0.0</td>\n",
       "      <td>0.0</td>\n",
       "      <td>0.0</td>\n",
       "      <td>0.0</td>\n",
       "      <td>0.0</td>\n",
       "      <td>0.0</td>\n",
       "      <td>0.0</td>\n",
       "    </tr>\n",
       "    <tr>\n",
       "      <th>6165</th>\n",
       "      <td>PLANT_5b4530a0-6220-444d-80c8-23bb33ff63b8</td>\n",
       "      <td>1.0</td>\n",
       "      <td>EVENT_7ea74261-1d64-5a97-8322-f2ba24ed041d</td>\n",
       "      <td>0.815286</td>\n",
       "      <td>0.0</td>\n",
       "      <td>0.0</td>\n",
       "      <td>0.0</td>\n",
       "      <td>1.0</td>\n",
       "      <td>0.0</td>\n",
       "      <td>0.0</td>\n",
       "      <td>0.0</td>\n",
       "      <td>0.0</td>\n",
       "      <td>0.0</td>\n",
       "      <td>0.0</td>\n",
       "      <td>0.0</td>\n",
       "      <td>0.0</td>\n",
       "    </tr>\n",
       "    <tr>\n",
       "      <th>6166</th>\n",
       "      <td>PLANT_ef8ca5c1-c5c6-4d26-adc0-263a49696043</td>\n",
       "      <td>1.0</td>\n",
       "      <td>EVENT_7ea74261-1d64-5a97-8322-f2ba24ed041d</td>\n",
       "      <td>0.000000</td>\n",
       "      <td>0.0</td>\n",
       "      <td>0.0</td>\n",
       "      <td>1.0</td>\n",
       "      <td>0.0</td>\n",
       "      <td>0.0</td>\n",
       "      <td>0.0</td>\n",
       "      <td>0.0</td>\n",
       "      <td>0.0</td>\n",
       "      <td>0.0</td>\n",
       "      <td>0.0</td>\n",
       "      <td>0.0</td>\n",
       "      <td>0.0</td>\n",
       "    </tr>\n",
       "    <tr>\n",
       "      <th>6167</th>\n",
       "      <td>PLANT_98533882-aa31-45a1-8775-d8f4662359f2</td>\n",
       "      <td>1.0</td>\n",
       "      <td>EVENT_7ea74261-1d64-5a97-8322-f2ba24ed041d</td>\n",
       "      <td>0.000000</td>\n",
       "      <td>0.0</td>\n",
       "      <td>0.0</td>\n",
       "      <td>1.0</td>\n",
       "      <td>0.0</td>\n",
       "      <td>0.0</td>\n",
       "      <td>0.0</td>\n",
       "      <td>0.0</td>\n",
       "      <td>0.0</td>\n",
       "      <td>0.0</td>\n",
       "      <td>0.0</td>\n",
       "      <td>0.0</td>\n",
       "      <td>0.0</td>\n",
       "    </tr>\n",
       "  </tbody>\n",
       "</table>\n",
       "<p>6168 rows × 16 columns</p>\n",
       "</div>"
      ],
      "text/plain": [
       "                                        plant_id  plant_status  \\\n",
       "0     PLANT_2d04335e-db7d-4f83-a21c-104be59d1c85           0.0   \n",
       "1     PLANT_3f6c4278-9698-4e08-b386-459fb50008b8           0.0   \n",
       "2     PLANT_e8f48e96-1fd0-4435-b02a-d5e14f39196f           0.0   \n",
       "3     PLANT_5a508647-c0e4-421f-8296-f0ff1ed02ea4           0.0   \n",
       "4     PLANT_2d04335e-db7d-4f83-a21c-104be59d1c85           0.0   \n",
       "...                                          ...           ...   \n",
       "6163  PLANT_b76442c6-0eba-4951-bce7-c8e5702afdc1           1.0   \n",
       "6164  PLANT_b874295f-5878-497c-99ff-789be0da6bde           1.0   \n",
       "6165  PLANT_5b4530a0-6220-444d-80c8-23bb33ff63b8           1.0   \n",
       "6166  PLANT_ef8ca5c1-c5c6-4d26-adc0-263a49696043           1.0   \n",
       "6167  PLANT_98533882-aa31-45a1-8775-d8f4662359f2           1.0   \n",
       "\n",
       "                                        event_id     value  \\\n",
       "0     EVENT_5ac10a11-ebe1-5f3a-a080-18ab29e1351b  0.539419   \n",
       "1     EVENT_5ac10a11-ebe1-5f3a-a080-18ab29e1351b  0.539419   \n",
       "2     EVENT_5ac10a11-ebe1-5f3a-a080-18ab29e1351b  0.539419   \n",
       "3     EVENT_5ac10a11-ebe1-5f3a-a080-18ab29e1351b  0.539419   \n",
       "4     EVENT_5ac10a11-ebe1-5f3a-a080-18ab29e1351b  0.000000   \n",
       "...                                          ...       ...   \n",
       "6163  EVENT_7ea74261-1d64-5a97-8322-f2ba24ed041d  0.815286   \n",
       "6164  EVENT_7ea74261-1d64-5a97-8322-f2ba24ed041d  0.815286   \n",
       "6165  EVENT_7ea74261-1d64-5a97-8322-f2ba24ed041d  0.815286   \n",
       "6166  EVENT_7ea74261-1d64-5a97-8322-f2ba24ed041d  0.000000   \n",
       "6167  EVENT_7ea74261-1d64-5a97-8322-f2ba24ed041d  0.000000   \n",
       "\n",
       "      value_label_iot_co  value_label_iot_humidity  value_label_iot_lpg  \\\n",
       "0                    0.0                       0.0                  0.0   \n",
       "1                    0.0                       0.0                  0.0   \n",
       "2                    0.0                       0.0                  0.0   \n",
       "3                    0.0                       0.0                  0.0   \n",
       "4                    0.0                       0.0                  1.0   \n",
       "...                  ...                       ...                  ...   \n",
       "6163                 0.0                       0.0                  0.0   \n",
       "6164                 0.0                       0.0                  0.0   \n",
       "6165                 0.0                       0.0                  0.0   \n",
       "6166                 0.0                       0.0                  1.0   \n",
       "6167                 0.0                       0.0                  1.0   \n",
       "\n",
       "      value_label_iot_rainfall  value_label_iot_smoke  \\\n",
       "0                          0.0                    0.0   \n",
       "1                          0.0                    0.0   \n",
       "2                          0.0                    0.0   \n",
       "3                          0.0                    0.0   \n",
       "4                          0.0                    0.0   \n",
       "...                        ...                    ...   \n",
       "6163                       1.0                    0.0   \n",
       "6164                       1.0                    0.0   \n",
       "6165                       1.0                    0.0   \n",
       "6166                       0.0                    0.0   \n",
       "6167                       0.0                    0.0   \n",
       "\n",
       "      value_label_iot_soil_humidity  value_label_iot_soil_nitrogen  \\\n",
       "0                               0.0                            0.0   \n",
       "1                               0.0                            0.0   \n",
       "2                               0.0                            0.0   \n",
       "3                               0.0                            0.0   \n",
       "4                               0.0                            0.0   \n",
       "...                             ...                            ...   \n",
       "6163                            0.0                            0.0   \n",
       "6164                            0.0                            0.0   \n",
       "6165                            0.0                            0.0   \n",
       "6166                            0.0                            0.0   \n",
       "6167                            0.0                            0.0   \n",
       "\n",
       "      value_label_iot_soil_ph  value_label_iot_soil_phosporous  \\\n",
       "0                         0.0                              0.0   \n",
       "1                         0.0                              0.0   \n",
       "2                         0.0                              0.0   \n",
       "3                         0.0                              0.0   \n",
       "4                         0.0                              0.0   \n",
       "...                       ...                              ...   \n",
       "6163                      0.0                              0.0   \n",
       "6164                      0.0                              0.0   \n",
       "6165                      0.0                              0.0   \n",
       "6166                      0.0                              0.0   \n",
       "6167                      0.0                              0.0   \n",
       "\n",
       "      value_label_iot_soil_potassium  value_label_iot_soil_temp  \\\n",
       "0                                0.0                        0.0   \n",
       "1                                0.0                        0.0   \n",
       "2                                0.0                        0.0   \n",
       "3                                0.0                        0.0   \n",
       "4                                0.0                        0.0   \n",
       "...                              ...                        ...   \n",
       "6163                             0.0                        0.0   \n",
       "6164                             0.0                        0.0   \n",
       "6165                             0.0                        0.0   \n",
       "6166                             0.0                        0.0   \n",
       "6167                             0.0                        0.0   \n",
       "\n",
       "      value_label_iot_temp  \n",
       "0                      1.0  \n",
       "1                      1.0  \n",
       "2                      1.0  \n",
       "3                      1.0  \n",
       "4                      0.0  \n",
       "...                    ...  \n",
       "6163                   0.0  \n",
       "6164                   0.0  \n",
       "6165                   0.0  \n",
       "6166                   0.0  \n",
       "6167                   0.0  \n",
       "\n",
       "[6168 rows x 16 columns]"
      ]
     },
     "execution_count": 9,
     "metadata": {},
     "output_type": "execute_result"
    }
   ],
   "source": [
    "def get_nodess_v2():\n",
    "    def get_nodes():\n",
    "        query = f\"\"\"\n",
    "            MATCH (p:Plant)<-[m:MEASURES]-(s:Sensor)-[r:REGISTERS]->(e:Event)-[c:CONTAINS]->(sd)\n",
    "            WITH p, m, s, r, e, c, sd\n",
    "            WHERE sd['value'] IS NOT NULL AND labels(sd)[0] <> 'iot_light' AND labels(sd)[0] <> 'iot_motion'\n",
    "            RETURN ID(p) AS plant_id, p['status'] AS plant_status, ID(e) AS event_id, sd['value'] AS value, labels(sd)[0] AS value_label\n",
    "        \"\"\"\n",
    "        result = run_query(query)\n",
    "        data = []\n",
    "        label = None\n",
    "        for record in result:\n",
    "            row = dict(record)\n",
    "            data.append(row)\n",
    "        df = pd.DataFrame(data)\n",
    "        stream = io.StringIO()\n",
    "        df.to_csv(stream, index=False)\n",
    "        stream.seek(0)\n",
    "        df = pd.read_csv(stream)\n",
    "        stream.close()\n",
    "        return df\n",
    "    node_dfs = get_nodes()\n",
    "    node_dfs = node_dfs.reset_index(drop=True)\n",
    "    grouped = node_dfs.groupby(\"value_label\")\n",
    "    groups = []\n",
    "    scaler = MinMaxScaler()\n",
    "    node_dfs['value'] = grouped['value'].transform(lambda x: scaler.fit_transform(x.values.reshape(-1, 1)).flatten())\n",
    "    one_hot = OneHotEncoder(sparse=False)\n",
    "    encoded = one_hot.fit_transform(node_dfs['value_label'].values.reshape(-1, 1))\n",
    "    one_hot_df = pd.DataFrame(encoded, columns=one_hot.get_feature_names_out(['value_label']))\n",
    "    node_dfs = pd.concat([node_dfs.drop('value_label', axis=1), one_hot_df], axis=1)\n",
    "    cols = node_dfs.columns\n",
    "    return node_dfs\n",
    "\n",
    "\n",
    "nodes_df2 = get_nodess_v2()\n",
    "node_indices = {id: i for i, id in enumerate(nodes_df2['plant_id'])}\n",
    "nodes_df2"
   ]
  },
  {
   "cell_type": "code",
   "execution_count": 10,
   "id": "995b127a-0dee-4935-952f-d1e947b1202e",
   "metadata": {
    "tags": []
   },
   "outputs": [
    {
     "data": {
      "text/html": [
       "<div>\n",
       "<style scoped>\n",
       "    .dataframe tbody tr th:only-of-type {\n",
       "        vertical-align: middle;\n",
       "    }\n",
       "\n",
       "    .dataframe tbody tr th {\n",
       "        vertical-align: top;\n",
       "    }\n",
       "\n",
       "    .dataframe thead th {\n",
       "        text-align: right;\n",
       "    }\n",
       "</style>\n",
       "<table border=\"1\" class=\"dataframe\">\n",
       "  <thead>\n",
       "    <tr style=\"text-align: right;\">\n",
       "      <th></th>\n",
       "      <th>id</th>\n",
       "      <th>start_node</th>\n",
       "      <th>end_node</th>\n",
       "      <th>lbl</th>\n",
       "      <th>source_idx</th>\n",
       "      <th>target_idx</th>\n",
       "      <th>label_encoded</th>\n",
       "    </tr>\n",
       "  </thead>\n",
       "  <tbody>\n",
       "    <tr>\n",
       "      <th>0</th>\n",
       "      <td>E_aad8eff4-cb94-5bda-9625-9f45249cb12b</td>\n",
       "      <td>SENSOR_18:24:as:kf:24:00</td>\n",
       "      <td>EVENT_4807bf3f-4d09-56bb-8966-10ec12f60329</td>\n",
       "      <td>REGISTERS</td>\n",
       "      <td>NaN</td>\n",
       "      <td>NaN</td>\n",
       "      <td>9</td>\n",
       "    </tr>\n",
       "    <tr>\n",
       "      <th>1</th>\n",
       "      <td>E_fdc98e75-005d-5866-a19d-19827977ce7f</td>\n",
       "      <td>SENSOR_18:24:as:kf:24:00</td>\n",
       "      <td>EVENT_cb653148-b27d-53ee-a29f-9245391f5665</td>\n",
       "      <td>REGISTERS</td>\n",
       "      <td>NaN</td>\n",
       "      <td>NaN</td>\n",
       "      <td>9</td>\n",
       "    </tr>\n",
       "    <tr>\n",
       "      <th>2</th>\n",
       "      <td>E_f5d874b6-126c-5a13-ab23-f96fee0205a5</td>\n",
       "      <td>SENSOR_o0:4e:ve:rt:1l:l1</td>\n",
       "      <td>EVENT_a744afb3-9172-5b43-8f1d-1ae77ab003df</td>\n",
       "      <td>REGISTERS</td>\n",
       "      <td>NaN</td>\n",
       "      <td>NaN</td>\n",
       "      <td>9</td>\n",
       "    </tr>\n",
       "    <tr>\n",
       "      <th>3</th>\n",
       "      <td>E_fa1fd744-e5a6-5544-b90c-73901ad29b09</td>\n",
       "      <td>SENSOR_o0:4e:ve:rt:1l:l1</td>\n",
       "      <td>EVENT_9d471536-8060-51c0-83e7-7abea80cb1b8</td>\n",
       "      <td>REGISTERS</td>\n",
       "      <td>NaN</td>\n",
       "      <td>NaN</td>\n",
       "      <td>9</td>\n",
       "    </tr>\n",
       "    <tr>\n",
       "      <th>4</th>\n",
       "      <td>E_c6f2744a-bf8b-5df2-b4dd-b15ecf566d67</td>\n",
       "      <td>SENSOR_o0:4e:ve:rt:1l:l1</td>\n",
       "      <td>EVENT_907471cb-db77-5928-beb2-f52cceb5bd4e</td>\n",
       "      <td>REGISTERS</td>\n",
       "      <td>NaN</td>\n",
       "      <td>NaN</td>\n",
       "      <td>9</td>\n",
       "    </tr>\n",
       "  </tbody>\n",
       "</table>\n",
       "</div>"
      ],
      "text/plain": [
       "                                       id                start_node  \\\n",
       "0  E_aad8eff4-cb94-5bda-9625-9f45249cb12b  SENSOR_18:24:as:kf:24:00   \n",
       "1  E_fdc98e75-005d-5866-a19d-19827977ce7f  SENSOR_18:24:as:kf:24:00   \n",
       "2  E_f5d874b6-126c-5a13-ab23-f96fee0205a5  SENSOR_o0:4e:ve:rt:1l:l1   \n",
       "3  E_fa1fd744-e5a6-5544-b90c-73901ad29b09  SENSOR_o0:4e:ve:rt:1l:l1   \n",
       "4  E_c6f2744a-bf8b-5df2-b4dd-b15ecf566d67  SENSOR_o0:4e:ve:rt:1l:l1   \n",
       "\n",
       "                                     end_node        lbl  source_idx  \\\n",
       "0  EVENT_4807bf3f-4d09-56bb-8966-10ec12f60329  REGISTERS         NaN   \n",
       "1  EVENT_cb653148-b27d-53ee-a29f-9245391f5665  REGISTERS         NaN   \n",
       "2  EVENT_a744afb3-9172-5b43-8f1d-1ae77ab003df  REGISTERS         NaN   \n",
       "3  EVENT_9d471536-8060-51c0-83e7-7abea80cb1b8  REGISTERS         NaN   \n",
       "4  EVENT_907471cb-db77-5928-beb2-f52cceb5bd4e  REGISTERS         NaN   \n",
       "\n",
       "   target_idx  label_encoded  \n",
       "0         NaN              9  \n",
       "1         NaN              9  \n",
       "2         NaN              9  \n",
       "3         NaN              9  \n",
       "4         NaN              9  "
      ]
     },
     "execution_count": 10,
     "metadata": {},
     "output_type": "execute_result"
    }
   ],
   "source": [
    "def get_edges(label):\n",
    "    query = f\"MATCH(n)-[e:{label}]->(m) RETURN type(e) AS lbl, id(e) AS idedge, id(n) AS start, id(m) AS end\"\n",
    "    result = run_query(query)\n",
    "    data = []\n",
    "    for record in result:\n",
    "        id_ = record['idedge']\n",
    "        start_node = record['start']\n",
    "        end_node = record['end']\n",
    "        label = record['lbl']\n",
    "        row = {'id': id_, 'start_node': start_node, 'end_node': end_node, 'lbl': label}\n",
    "        data.append(row)\n",
    "    df = pd.DataFrame(data)\n",
    "    return df\n",
    "\n",
    "edge_labels = [lbl['lbl'] for lbl in labels_edge['results']]\n",
    "edge_dfs = [get_edges(lbl) for lbl in edge_labels]\n",
    "edges_df = pd.concat(edge_dfs)\n",
    "edges_df = edges_df.reset_index(drop=True)\n",
    "\n",
    "edges_df['source_idx'] = edges_df['start_node'].map(node_indices)\n",
    "edges_df['target_idx'] = edges_df['end_node'].map(node_indices)\n",
    "\n",
    "encoder = LabelEncoder()\n",
    "encoded_labels_edges = encoder.fit_transform(edges_df['lbl'].unique())\n",
    "encoded_labels_edges_map = {lbl: enclbl for lbl, enclbl in zip(edges_df['lbl'].unique(), encoded_labels_edges)}\n",
    "edges_df['label_encoded'] = edges_df['lbl'].map(encoded_labels_edges_map)\n",
    "edges_df.head()"
   ]
  },
  {
   "cell_type": "markdown",
   "id": "d4e91731-afb4-47b8-9c52-33e5214b7c76",
   "metadata": {},
   "source": [
    "### Defining the graph"
   ]
  },
  {
   "cell_type": "code",
   "execution_count": 11,
   "id": "487cee5b-2ada-4a6e-9fde-2376a3026c96",
   "metadata": {},
   "outputs": [
    {
     "name": "stdout",
     "output_type": "stream",
     "text": [
      "value\n",
      "value_label_iot_co\n",
      "value_label_iot_humidity\n",
      "value_label_iot_lpg\n",
      "value_label_iot_rainfall\n",
      "value_label_iot_smoke\n",
      "value_label_iot_soil_humidity\n",
      "value_label_iot_soil_nitrogen\n",
      "value_label_iot_soil_ph\n",
      "value_label_iot_soil_phosporous\n",
      "value_label_iot_soil_potassium\n",
      "value_label_iot_soil_temp\n",
      "value_label_iot_temp\n"
     ]
    }
   ],
   "source": [
    "g = dgl.graph((edges_df['source_idx'], edges_df['target_idx']))\n",
    "for v in nodes_df2.columns:\n",
    "    if 'value' in v:\n",
    "        print(v)\n",
    "        g.ndata[v] = tensor(nodes_df2[v])\n",
    "g.ndata['plant_status'] = tensor(nodes_df2['plant_status'])\n",
    "g = dgl.add_self_loop(g)\n",
    "\n",
    "#g = dgl.graph((edges_df['source_idx'], edges_df['target_idx']))\n",
    "#for valcol in nodes_df.columns:\n",
    "#    if 'encoded' in valcol or nodes_df[valcol].dtype == np.float64:\n",
    "#        g.ndata[valcol] = tensor(nodes_df[valcol])\n",
    "#g.edata['encoded_edge_labels'] = tensor(edges_df['label_encoded'])\n",
    "#g = dgl.add_self_loop(g)"
   ]
  },
  {
   "cell_type": "markdown",
   "id": "84a59cdb-8cc8-447b-bfc2-58054846aa05",
   "metadata": {},
   "source": [
    "### Training the Network"
   ]
  },
  {
   "cell_type": "code",
   "execution_count": 12,
   "id": "89520b58-4b2d-4794-910c-55f73d282240",
   "metadata": {
    "tags": []
   },
   "outputs": [],
   "source": [
    "class GCNModel(Module):\n",
    "    def __init__(self, in_feats, h_feats):\n",
    "        super(GCNModel, self).__init__()\n",
    "        self.conv1 = GraphConv(in_feats, h_feats)\n",
    "        self.conv2 = GraphConv(h_feats, 1)\n",
    "\n",
    "    def forward(self, g, in_feat):\n",
    "        h =  self.conv1(g, in_feat)\n",
    "        h = F.relu(h)\n",
    "        h = self.conv2(g, h)\n",
    "        return h.squeeze()"
   ]
  },
  {
   "cell_type": "code",
   "execution_count": 13,
   "id": "d80c4525-6b9a-47d1-80ca-26f1d9af88db",
   "metadata": {
    "tags": []
   },
   "outputs": [],
   "source": [
    "feature_cols = [valcol for valcol in g.ndata if valcol != 'label_encoded']\n",
    "features = stack([g.ndata[feat] for feat in g.ndata], dim=1)\n",
    "model_labels = g.ndata['plant_status'].float()\n",
    "num_classes = len(model_labels.unique())\n",
    "train_mask, test_mask = train_test_split(range(len(features)), test_size=0.2, random_state=42)\n",
    "train_mask = tensor(train_mask).numpy()\n",
    "test_mask = tensor(test_mask).numpy()\n",
    "input_features = features.shape[1]\n",
    "h_feats = 7\n",
    "num_epochs = 25\n",
    "learning_rate = 0.01\n",
    "\n",
    "#feature_cols = [valcol for valcol in g.ndata if valcol != 'label_encoded']\n",
    "#features = stack([g.ndata[valcol] for valcol in g.ndata if valcol != 'label_encoded'], dim=1)\n",
    "#model_labels = g.ndata['status_Plant'].long()\n",
    "#num_classes = len(model_labels.unique())\n",
    "#train_mask, test_mask = train_test_split(range(len(features[0])), test_size=0.2, random_state=42)\n",
    "#train_mask = tensor(train_mask).numpy()\n",
    "#test_mask = tensor(test_mask).numpy()\n",
    "#input_features = features.shape[1]\n",
    "#h_feats = 200\n",
    "#num_epochs = 5\n",
    "#learning_rate = 1"
   ]
  },
  {
   "cell_type": "code",
   "execution_count": 14,
   "id": "71877b1d-36fa-4a8d-9373-01811661f029",
   "metadata": {
    "tags": []
   },
   "outputs": [],
   "source": [
    "model = GCNModel(input_features, h_feats).double()"
   ]
  },
  {
   "cell_type": "code",
   "execution_count": 15,
   "id": "0cf29436-4071-4cd9-a69e-38bd52c96b81",
   "metadata": {
    "tags": []
   },
   "outputs": [
    {
     "name": "stdout",
     "output_type": "stream",
     "text": [
      "Epoch 0, Loss 0.5727231340458435, Train acc 0.5999189019203186, Test acc. 0.5769854187965393\n",
      "Epoch 1, Loss 0.5603673704581451, Train acc 0.5999189019203186, Test acc. 0.5769854187965393\n",
      "Epoch 2, Loss 0.5480939872069605, Train acc 0.5999189019203186, Test acc. 0.5769854187965393\n",
      "Epoch 3, Loss 0.5358935709293946, Train acc 0.6015403270721436, Test acc. 0.5777958035469055\n",
      "Epoch 4, Loss 0.5238732046815369, Train acc 0.6126874685287476, Test acc. 0.5956239700317383\n",
      "Epoch 5, Loss 0.5119984897249034, Train acc 0.6187677383422852, Test acc. 0.5988654494285583\n",
      "Epoch 6, Loss 0.5002890047299575, Train acc 0.6361978054046631, Test acc. 0.614262580871582\n",
      "Epoch 7, Loss 0.4889789498257926, Train acc 0.6840291619300842, Test acc. 0.664505660533905\n",
      "Epoch 8, Loss 0.4778362605721039, Train acc 0.7081475257873535, Test acc. 0.6815235018730164\n",
      "Epoch 9, Loss 0.46686082185675915, Train acc 0.7130117416381836, Test acc. 0.6863857507705688\n",
      "Epoch 10, Loss 0.4561242953567556, Train acc 0.7383461594581604, Test acc. 0.7098865509033203\n",
      "Epoch 11, Loss 0.4455767352119412, Train acc 0.7509120106697083, Test acc. 0.7317666411399841\n",
      "Epoch 12, Loss 0.43527149558744094, Train acc 0.7606404423713684, Test acc. 0.7431118488311768\n",
      "Epoch 13, Loss 0.42498732941165407, Train acc 0.7685447931289673, Test acc. 0.7593193054199219\n",
      "Epoch 14, Loss 0.4147968702547915, Train acc 0.773206353187561, Test acc. 0.7617504000663757\n",
      "Epoch 15, Loss 0.40482821829385784, Train acc 0.8048236966133118, Test acc. 0.7893030643463135\n",
      "Epoch 16, Loss 0.39531504154958175, Train acc 0.8291447162628174, Test acc. 0.8152350187301636\n",
      "Epoch 17, Loss 0.38567126293916965, Train acc 0.8597486615180969, Test acc. 0.8517017960548401\n",
      "Epoch 18, Loss 0.37571520704278355, Train acc 0.882245659828186, Test acc. 0.8719611167907715\n",
      "Epoch 19, Loss 0.36550469249701656, Train acc 0.8948115110397339, Test acc. 0.8824959397315979\n",
      "Epoch 20, Loss 0.35506270125374895, Train acc 0.8972436189651489, Test acc. 0.8865478038787842\n",
      "Epoch 21, Loss 0.34455178242959794, Train acc 0.9175111651420593, Test acc. 0.9003241658210754\n",
      "Epoch 22, Loss 0.33407752257565443, Train acc 0.9274422526359558, Test acc. 0.9068071246147156\n",
      "Epoch 23, Loss 0.3237251665505148, Train acc 0.9294689893722534, Test acc. 0.9092382788658142\n",
      "Epoch 24, Loss 0.31342013651519, Train acc 0.9306850433349609, Test acc. 0.9108589887619019\n"
     ]
    }
   ],
   "source": [
    "def train(g, model, features=features, labels=model_labels, \n",
    "          train_mask=train_mask, test_mask=test_mask, lr=learning_rate, num_epochs=num_epochs):\n",
    "    optimizer = torch.optim.Adam(model.parameters(), lr=lr)\n",
    "    criterion = torch.nn.BCELoss()\n",
    "    \n",
    "    best_val_acc = 0\n",
    "    best_test_acc = 0\n",
    "    for e in range(num_epochs):\n",
    "        model.train()\n",
    "        # Forward\n",
    "        logits = model(g, features)\n",
    "        \n",
    "        # Compute loss\n",
    "        probs = torch.sigmoid(logits)\n",
    "        loss = criterion(probs[train_mask], labels[train_mask].double())\n",
    "\n",
    "        \n",
    "        optimizer.zero_grad()\n",
    "        loss.backward()\n",
    "        optimizer.step()\n",
    "\n",
    "        # Compute accuracy on training/validation/test\n",
    "        train_pred = (probs[train_mask] > 0.5).float()\n",
    "        test_pred = (probs[test_mask] > 0.5).float()\n",
    "        train_acc = (train_pred == labels[train_mask]).float().mean().item()\n",
    "        test_acc = (test_pred == labels[test_mask]).float().mean().item()\n",
    "        \n",
    "        print(f\"Epoch {e}, Loss {loss}, Train acc {train_acc}, Test acc. {test_acc}\")\n",
    "    return model\n",
    "\n",
    "model = train(g, model)\n",
    "torch.save(model.state_dict(), 'model.pth')\n",
    "\n",
    "#fig = plt.figure()\n",
    "#ax1 = fig.add_subplot()\n",
    "#ax1.scatter(x=[i for i in range(len(losses))], c='b',y=losses, label='test', marker='s')\n",
    "#plt.show()"
   ]
  },
  {
   "cell_type": "markdown",
   "id": "020fff6f-1c5f-4b38-88b8-7fab29bda09d",
   "metadata": {},
   "source": [
    "This model can be used to use classification to predict if a Plant is Healthy or not, based on sensor data."
   ]
  },
  {
   "cell_type": "markdown",
   "id": "01e88045-5d90-4e21-b57a-cff1e3df716e",
   "metadata": {},
   "source": [
    "### Embeddings\n",
    "\n",
    "We can also use an algorithm like DeepWalks to learn embeddings."
   ]
  },
  {
   "cell_type": "code",
   "execution_count": null,
   "id": "79213637-0c7f-4c96-8725-f9dcd3275490",
   "metadata": {
    "tags": []
   },
   "outputs": [],
   "source": [
    "model = DeepWalk(g)\n",
    "dataloader = DataLoader(torch.arange(g.num_nodes()), batch_size=128, shuffle=True, collate_fn=model.sample)\n",
    "optimizer = SparseAdam(model.parameters(), lr=0.01)\n",
    "num_epochs = 5\n",
    "\n",
    "for epoch in range(num_epochs):\n",
    "    for batch_walk in dataloader:\n",
    "        loss = model(batch_walk)\n",
    "        optimizer.zero_grad()\n",
    "        loss.backward()\n",
    "        optimizer.step()"
   ]
  },
  {
   "cell_type": "code",
   "execution_count": null,
   "id": "e1741c0e-4624-453d-a9ee-8fa80f3788cf",
   "metadata": {
    "tags": []
   },
   "outputs": [],
   "source": [
    "embeddings = model.node_embed.weight.detach()\n",
    "embeddings"
   ]
  },
  {
   "cell_type": "code",
   "execution_count": 42,
   "id": "cf30deb3-c4d0-4a95-9e1d-4bcbf1598e18",
   "metadata": {},
   "outputs": [
    {
     "data": {
      "application/vnd.jupyter.widget-view+json": {
       "model_id": "d1960f75f900464f94f1881c9f28f709",
       "version_major": 2,
       "version_minor": 0
      },
      "text/plain": [
       "Tab(children=(Output(layout=Layout(max_height='600px', max_width='940px', overflow='scroll')), Output(layout=L…"
      ]
     },
     "metadata": {},
     "output_type": "display_data"
    }
   ],
   "source": [
    "%%oc\n",
    "MATCH (p:Plant)\n",
    "RETURN ID(p), p.status"
   ]
  },
  {
   "cell_type": "code",
   "execution_count": 100,
   "id": "3a3c6444-5564-4ac6-91eb-0ac694cd8adf",
   "metadata": {},
   "outputs": [
    {
     "data": {
      "application/vnd.jupyter.widget-view+json": {
       "model_id": "5bd970e372e64e628250e52f10ba3980",
       "version_major": 2,
       "version_minor": 0
      },
      "text/plain": [
       "Tab(children=(Output(layout=Layout(max_height='600px', max_width='940px', overflow='scroll')), Output(layout=L…"
      ]
     },
     "metadata": {},
     "output_type": "display_data"
    }
   ],
   "source": [
    "%%oc\n",
    "MATCH (p:Plant)<-[m:MEASURES]-(s:Sensor)-[r:REGISTERS]->(e:Event)-[c:CONTAINS]->(sd)\n",
    "WITH p, m, s, r, e, c, sd\n",
    "WHERE sd['value'] IS NOT NULL AND labels(sd)[0] <> 'iot_light' AND labels(sd)[0] <> 'iot_motion'\n",
    "RETURN sd['value'] AS value, labels(sd)[0] AS value_label"
   ]
  },
  {
   "cell_type": "code",
   "execution_count": null,
   "id": "baea7b34-b941-4118-85ab-000f050853e5",
   "metadata": {},
   "outputs": [],
   "source": []
  }
 ],
 "metadata": {
  "kernelspec": {
   "display_name": "conda_pytorch_p39",
   "language": "python",
   "name": "conda_pytorch_p39"
  },
  "language_info": {
   "codemirror_mode": {
    "name": "ipython",
    "version": 3
   },
   "file_extension": ".py",
   "mimetype": "text/x-python",
   "name": "python",
   "nbconvert_exporter": "python",
   "pygments_lexer": "ipython3",
   "version": "3.9.15"
  }
 },
 "nbformat": 4,
 "nbformat_minor": 5
}
